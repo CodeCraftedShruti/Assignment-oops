{
 "cells": [
  {
   "cell_type": "markdown",
   "id": "c3273891-c46a-409d-b547-c3d343b3efd7",
   "metadata": {},
   "source": [
    "Problem 1: Bank Account Create a class representing a bank account with attributes like account number, account holder name, and balance. Implement methods to deposit and withdraw money from the account."
   ]
  },
  {
   "cell_type": "code",
   "execution_count": 9,
   "id": "49a717bb-bf8e-41f3-bb5b-cf62fb9eef99",
   "metadata": {},
   "outputs": [
    {
     "name": "stdin",
     "output_type": "stream",
     "text": [
      "enter amount to be deposited: 1000\n"
     ]
    },
    {
     "name": "stdout",
     "output_type": "stream",
     "text": [
      "\n",
      " Amount Deposited: 1000.0\n"
     ]
    },
    {
     "name": "stdin",
     "output_type": "stream",
     "text": [
      "enter amount to be withdrawn: 200\n"
     ]
    },
    {
     "name": "stdout",
     "output_type": "stream",
     "text": [
      "\n",
      " you have withdrawn : 200.0\n",
      "\n",
      " The account no 1234 with name sudh has Net Available Balance = 800.0\n"
     ]
    }
   ],
   "source": [
    "class bank :\n",
    "    \n",
    "    def __init__(self, account_no ,account_holder_name):\n",
    "        self.account_no = account_no\n",
    "        self.account_holder_name = account_holder_name\n",
    "        self.balance = 0\n",
    "        \n",
    "    def deposit(self):\n",
    "        amount = float(input(\"enter amount to be deposited:\"))\n",
    "        self.balance += amount\n",
    "        print(\"\\n Amount Deposited:\",amount)\n",
    "        \n",
    "    def withdraw(self):\n",
    "        amount = float(input(\"enter amount to be withdrawn:\"))\n",
    "        if self.balance >= amount:\n",
    "            self.balance -= amount\n",
    "            print(\"\\n you have withdrawn :\" ,amount)\n",
    "        else:\n",
    "            print(\"\\n Insufficient balance\")\n",
    "            \n",
    "    def display(self):\n",
    "        print(f\"\\n The account no {self.account_no} with name {self.account_holder_name} has Net Available Balance =\" ,self.balance)\n",
    "        \n",
    "        \n",
    "s = bank(1234,\"sudh\")\n",
    "\n",
    "s.deposit()\n",
    "s.withdraw()\n",
    "s.display()\n",
    "            \n",
    "        "
   ]
  },
  {
   "cell_type": "markdown",
   "id": "2ceb7f69-445e-4d51-a5fe-8e0c6bdde478",
   "metadata": {},
   "source": [
    "Problem 2: Employee Management Create a class representing an employee with attributes like employee ID, name, and salary. Implement methods to calculate the yearly bonus and display employee details."
   ]
  },
  {
   "cell_type": "code",
   "execution_count": 25,
   "id": "8f43ef53-5a6a-495f-b4fc-9290a8fd88c6",
   "metadata": {},
   "outputs": [],
   "source": [
    "class Employee:\n",
    "    \n",
    "    def __init__(self,emp_id,emp_name,emp_salary):\n",
    "        self.emp_id = emp_id\n",
    "        self.emp_name = emp_name\n",
    "        self.emp_salary = emp_salary\n",
    "        \n",
    "    def yearly_bonus(self):\n",
    "        salary = float(input(\"Enter a basic salary :\"))\n",
    "        if salary <= 7000:\n",
    "            bonus = (salary * 8.33 / 100)*12\n",
    "            print(\"/n The yearly bonus below or equal to 7000 is :\",bonus)\n",
    "            \n",
    "        else:\n",
    "            bonus = (7000 * 8.33 / 100) *12\n",
    "            print(\"/n The yearly bonus above or equal to 7000 is\",bonus)\n",
    "            \n",
    "    def display(self):\n",
    "        #print(f\"The yearly bonus of with {self.emp_id} is {bonus}\")\n",
    "        print(f\" /n The employee id {self.emp_id},name {self.emp_name} and salary {self.emp_salary}\")\n",
    " \n",
    "\n",
    "\n",
    "            \n",
    "        "
   ]
  },
  {
   "cell_type": "code",
   "execution_count": 28,
   "id": "718bd6ba-6907-4fe2-83ae-472439bfa87d",
   "metadata": {},
   "outputs": [],
   "source": [
    "emp = Employee(1234 ,\"kumar\",21000)"
   ]
  },
  {
   "cell_type": "code",
   "execution_count": 29,
   "id": "96ce174c-f055-4059-a6ba-f9f5cbf7e3c2",
   "metadata": {},
   "outputs": [
    {
     "name": "stdout",
     "output_type": "stream",
     "text": [
      " /n The employee id 1234,name kumar and salary 21000\n"
     ]
    },
    {
     "name": "stdin",
     "output_type": "stream",
     "text": [
      "Enter a basic salary : 6000\n"
     ]
    },
    {
     "name": "stdout",
     "output_type": "stream",
     "text": [
      "/n The yearly bonus below or equal to 7000 is : 5997.6\n"
     ]
    }
   ],
   "source": [
    "emp.display()\n",
    "emp.yearly_bonus()"
   ]
  },
  {
   "cell_type": "markdown",
   "id": "36410b99-c167-4ac8-bdd6-9adde0154a91",
   "metadata": {},
   "source": [
    "Problem 3: Vehicle Rental Create a class representing a vehicle rental system. Implement methods to rent a vehicle, return a vehicle, and display available vehicles."
   ]
  },
  {
   "cell_type": "code",
   "execution_count": 14,
   "id": "9cbaeb07-9bb4-407a-99c6-df0f05121aff",
   "metadata": {},
   "outputs": [
    {
     "name": "stdout",
     "output_type": "stream",
     "text": [
      "Car (ID: V001) added to the available vehicles.\n",
      "Bike (ID: V002) added to the available vehicles.\n",
      "Scooter (ID: V003) added to the available vehicles.\n",
      "John rented a Car (ID: V001).\n",
      "Alice rented a Bike (ID: V002).\n",
      "Available Vehicles:\n",
      "ID: V003, Type: Scooter\n",
      "John returned a Car (ID: V001).\n",
      "Available Vehicles:\n",
      "ID: V003, Type: Scooter\n",
      "ID: V001, Type: Car\n"
     ]
    }
   ],
   "source": [
    "class VehicleRentalSystem:\n",
    "    def __init__(self):\n",
    "        self.available_vehicles = {}\n",
    "        self.rented_vehicles = {}\n",
    "\n",
    "    def add_vehicle(self, vehicle_id, vehicle_type):\n",
    "        if vehicle_id not in self.available_vehicles:\n",
    "            self.available_vehicles[vehicle_id] = vehicle_type\n",
    "            print(f\"{vehicle_type} (ID: {vehicle_id}) added to the available vehicles.\")\n",
    "\n",
    "    def rent_vehicle(self, vehicle_id, customer_name):\n",
    "        if vehicle_id in self.available_vehicles:\n",
    "            vehicle_type = self.available_vehicles.pop(vehicle_id)\n",
    "            self.rented_vehicles[vehicle_id] = (customer_name, vehicle_type)\n",
    "            print(f\"{customer_name} rented a {vehicle_type} (ID: {vehicle_id}).\")\n",
    "        else:\n",
    "            print(f\"Vehicle (ID: {vehicle_id}) is not available for rent.\")\n",
    "\n",
    "    def return_vehicle(self, vehicle_id):\n",
    "        if vehicle_id in self.rented_vehicles:\n",
    "            customer_name, vehicle_type = self.rented_vehicles.pop(vehicle_id)\n",
    "            self.available_vehicles[vehicle_id] = vehicle_type\n",
    "            print(f\"{customer_name} returned a {vehicle_type} (ID: {vehicle_id}).\")\n",
    "        else:\n",
    "            print(f\"Vehicle (ID: {vehicle_id}) was not rented from our system.\")\n",
    "\n",
    "    def display_available_vehicles(self):\n",
    "        if self.available_vehicles:\n",
    "            print(\"Available Vehicles:\")\n",
    "            for vehicle_id, vehicle_type in self.available_vehicles.items():\n",
    "                print(f\"ID: {vehicle_id}, Type: {vehicle_type}\")\n",
    "        else:\n",
    "            print(\"No vehicles are available at the moment.\")\n",
    "\n",
    "\n",
    "if __name__ == \"__main__\":\n",
    "    rental_system = VehicleRentalSystem()\n",
    "\n",
    "    rental_system.add_vehicle(\"V001\", \"Car\")\n",
    "    rental_system.add_vehicle(\"V002\", \"Bike\")\n",
    "    rental_system.add_vehicle(\"V003\", \"Scooter\")\n",
    "\n",
    "    rental_system.rent_vehicle(\"V001\", \"John\")\n",
    "    rental_system.rent_vehicle(\"V002\", \"Alice\")\n",
    "\n",
    "    rental_system.display_available_vehicles()\n",
    "\n",
    "    rental_system.return_vehicle(\"V001\")\n",
    "\n",
    "    rental_system.display_available_vehicles()\n"
   ]
  },
  {
   "cell_type": "markdown",
   "id": "bdce6934-3726-4fbe-963d-ae3b82d47c4a",
   "metadata": {},
   "source": [
    "Problem 4: Library Catalog Create classes representing a library and a book. Implement methods to add books to the library, borrow books, and display available books."
   ]
  },
  {
   "cell_type": "code",
   "execution_count": 63,
   "id": "06ae5ba0-7915-47dd-86de-5b644a042edf",
   "metadata": {},
   "outputs": [
    {
     "name": "stdout",
     "output_type": "stream",
     "text": [
      "The Great Gatsby by F. Scott Fitzgerald\n",
      "To Kill a Mockingbird by Harper Lee\n",
      "1984 by George Orwell\n",
      "The Great Gatsby by F. Scott Fitzgerald has been borrowed.\n",
      "To Kill a Mockingbird by Harper Lee\n",
      "1984 by George Orwell\n",
      "The Great Gatsby by F. Scott Fitzgerald has been returned.\n",
      "The Great Gatsby by F. Scott Fitzgerald\n",
      "To Kill a Mockingbird by Harper Lee\n",
      "1984 by George Orwell\n"
     ]
    }
   ],
   "source": [
    "class Book:\n",
    "    def __init__(self, title, author, available=True):\n",
    "        self.title = title\n",
    "        self.author = author\n",
    "        self.available = available\n",
    "\n",
    "    def borrow(self):\n",
    "        if self.available:\n",
    "            self.available = False\n",
    "            return f\"{self.title} by {self.author} has been borrowed.\"\n",
    "        else:\n",
    "            return f\"{self.title} by {self.author} is not available for borrowing.\"\n",
    "\n",
    "    def return_book(self):\n",
    "        if not self.available:\n",
    "            self.available = True\n",
    "            return f\"{self.title} by {self.author} has been returned.\"\n",
    "        else:\n",
    "            return f\"{self.title} by {self.author} is already available in the library.\"\n",
    "\n",
    "\n",
    "class Library:\n",
    "    def __init__(self):\n",
    "        self.books = []\n",
    "\n",
    "    def add_book(self, title, author):\n",
    "        book = Book(title, author)\n",
    "        self.books.append(book)\n",
    "\n",
    "    def borrow_book(self, title, author):\n",
    "        for book in self.books:\n",
    "            if book.title == title and book.author == author:\n",
    "                return book.borrow()\n",
    "        return \"Book not found in the library.\"\n",
    "\n",
    "    def return_book(self, title, author):\n",
    "        for book in self.books:\n",
    "            if book.title == title and book.author == author:\n",
    "                return book.return_book()\n",
    "        return \"Book not found in the library.\"\n",
    "\n",
    "    def display_available_books(self):\n",
    "        available_books = [f\"{book.title} by {book.author}\" for book in self.books if book.available]\n",
    "        if available_books:\n",
    "            return \"\\n\".join(available_books)\n",
    "        else:\n",
    "            return \"No books are currently available in the library.\"\n",
    "\n",
    "\n",
    "if __name__ == \"__main__\":\n",
    "    library = Library()\n",
    "    library.add_book(\"The Great Gatsby\", \"F. Scott Fitzgerald\")\n",
    "    library.add_book(\"To Kill a Mockingbird\", \"Harper Lee\")\n",
    "    library.add_book(\"1984\", \"George Orwell\")\n",
    "\n",
    "    print(library.display_available_books())\n",
    "    print(library.borrow_book(\"The Great Gatsby\", \"F. Scott Fitzgerald\"))\n",
    "    print(library.display_available_books())\n",
    "    print(library.return_book(\"The Great Gatsby\", \"F. Scott Fitzgerald\"))\n",
    "    print(library.display_available_books())\n"
   ]
  },
  {
   "cell_type": "code",
   "execution_count": null,
   "id": "f4001a2b-f141-4f33-b9d4-f53814e27a6a",
   "metadata": {},
   "outputs": [],
   "source": []
  },
  {
   "cell_type": "markdown",
   "id": "60f37276-7191-48e9-acc7-c060c088d762",
   "metadata": {},
   "source": [
    "Problem 5: Product Inventory Create classes representing a product and an inventory system. Implement methods to add products to the inventory, update product quantity, and display available products."
   ]
  },
  {
   "cell_type": "code",
   "execution_count": null,
   "id": "d315ebe6-b197-4f40-8f81-42a16ad9ed42",
   "metadata": {},
   "outputs": [],
   "source": [
    "class Product:\n",
    "    def __init__(self, product_id, name, price, quantity):\n",
    "        self.product_id = product_id\n",
    "        self.name = name\n",
    "        self.price = price\n",
    "        self.quantity = quantity\n",
    "\n",
    "    def update_quantity(self, new_quantity):\n",
    "        self.quantity = new_quantity\n",
    "\n",
    "    def __str__(self):\n",
    "        return f\"Product ID: {self.product_id}, Name: {self.name}, Price: ${self.price}, Quantity: {self.quantity}\"\n",
    "\n",
    "\n",
    "class InventorySystem:\n",
    "    def __init__(self):\n",
    "        self.products = []\n",
    "\n",
    "    def add_product(self, product_id, name, price, quantity):\n",
    "        product = Product(product_id, name, price, quantity)\n",
    "        self.products.append(product)\n",
    "\n",
    "    def update_quantity(self, product_id, new_quantity):\n",
    "        for product in self.products:\n",
    "            if product.product_id == product_id:\n",
    "                product.update_quantity(new_quantity)\n",
    "                return f\"Quantity for Product ID {product_id} has been updated.\"\n",
    "\n",
    "        return \"Product not found in the inventory.\"\n",
    "\n",
    "    def display_available_products(self):\n",
    "        available_products = [str(product) for product in self.products if product.quantity > 0]\n",
    "        if available_products:\n",
    "            return \"\\n\".join(available_products)\n",
    "        else:\n",
    "            return \"No products are currently available in the inventory.\"\n",
    "\n",
    "\n",
    "if __name__ == \"__main__\":\n",
    "    inventory_system = InventorySystem()\n",
    "    inventory_system.add_product(1, \"Laptop\", 800, 10)\n",
    "    inventory_system.add_product(2, \"Phone\", 400, 20)\n",
    "    inventory_system.add_product(3, \"Tablet\", 300, 15)\n",
    "\n",
    "    print(inventory_system.display_available_products())\n",
    "    print(inventory_system.update_quantity(1, 8))\n",
    "    print(inventory_system.display_available_products())\n",
    "    print(inventory_system.update_quantity(4, 5))  # Non-existent product\n",
    "    print(inventory_system.display_available_products())\n"
   ]
  },
  {
   "cell_type": "markdown",
   "id": "21cdb16c-10f9-4dc6-8fbb-60a3a47bb0ee",
   "metadata": {},
   "source": [
    "Problem 6: Shape Calculation Create a class representing a shape with attributes like length, width, and height. Implement methods to calculate the area and perimeter of the shape."
   ]
  },
  {
   "cell_type": "code",
   "execution_count": 64,
   "id": "f58a9a3a-2132-4786-8097-ca70a1fcba58",
   "metadata": {},
   "outputs": [
    {
     "name": "stdout",
     "output_type": "stream",
     "text": [
      "Rectangle - Area: 30, Perimeter: 22\n",
      "Square - Area: 16, Perimeter: 16\n",
      "Triangle - Area: 6.0, Perimeter: 12\n"
     ]
    }
   ],
   "source": [
    "import math\n",
    "\n",
    "class Shape:\n",
    "    def __init__(self, length, width, height):\n",
    "        self.length = length\n",
    "        self.width = width\n",
    "        self.height = height\n",
    "\n",
    "    def calculate_area(self):\n",
    "        pass\n",
    "\n",
    "    def calculate_perimeter(self):\n",
    "        pass\n",
    "\n",
    "class Rectangle(Shape):\n",
    "    def calculate_area(self):\n",
    "        return self.length * self.width\n",
    "\n",
    "    def calculate_perimeter(self):\n",
    "        return 2 * (self.length + self.width)\n",
    "\n",
    "class Square(Shape):\n",
    "    def calculate_area(self):\n",
    "        return self.length * self.length\n",
    "\n",
    "    def calculate_perimeter(self):\n",
    "        return 4 * self.length\n",
    "\n",
    "class Triangle(Shape):\n",
    "    def calculate_area(self):\n",
    "        # Heron's formula for the area of a triangle\n",
    "        s = (self.length + self.width + self.height) / 2\n",
    "        area = math.sqrt(s * (s - self.length) * (s - self.width) * (s - self.height))\n",
    "        return area\n",
    "\n",
    "    def calculate_perimeter(self):\n",
    "        return self.length + self.width + self.height\n",
    "\n",
    "\n",
    "rectangle = Rectangle(5, 6, 0)\n",
    "square = Square(4, 0, 0)\n",
    "triangle = Triangle(3, 4, 5)\n",
    "\n",
    "print(f\"Rectangle - Area: {rectangle.calculate_area()}, Perimeter: {rectangle.calculate_perimeter()}\")\n",
    "print(f\"Square - Area: {square.calculate_area()}, Perimeter: {square.calculate_perimeter()}\")\n",
    "print(f\"Triangle - Area: {triangle.calculate_area()}, Perimeter: {triangle.calculate_perimeter()}\")\n"
   ]
  },
  {
   "cell_type": "markdown",
   "id": "c66b9fe4-890e-46d6-abe5-a5bfe7cac3a1",
   "metadata": {},
   "source": [
    "Problem 7: Student Management Create a class representing a student with attributes like student ID, name, and grades. Implement methods to calculate the average grade and display student details."
   ]
  },
  {
   "cell_type": "code",
   "execution_count": 7,
   "id": "e49396a1-e499-4b51-ac00-d35fbc52aa7f",
   "metadata": {},
   "outputs": [
    {
     "name": "stdout",
     "output_type": "stream",
     "text": [
      "Student ID : 12354\n",
      "Name : sudh kumar\n",
      "Grades: [86, 76, 72]\n",
      "Average Grade : 78.0\n",
      "Student ID : 12356\n",
      "Name : justin beiber\n",
      "Grades: [90, 86, 67]\n",
      "Average Grade : 81.0\n"
     ]
    }
   ],
   "source": [
    "class student_management:\n",
    "    \n",
    "    def __init__(self , student_id,name):\n",
    "        self.student_id = student_id\n",
    "        self.name = name\n",
    "        self.grades = []\n",
    "        \n",
    "    def add_grade(self,grade):\n",
    "        self.grades.append(grade)\n",
    "        \n",
    "    def cal_avg_grade(self):\n",
    "        if len(self.grades) == 0:\n",
    "            return 0\n",
    "        total = sum(self.grades)\n",
    "        return total/len(self.grades)\n",
    "    \n",
    "    def display_student_detils(self):\n",
    "        print(\"Student ID :\" ,self.student_id)\n",
    "        print(\"Name :\",self.name)\n",
    "        print(\"Grades:\",self.grades)\n",
    "        print(\"Average Grade :\",self.cal_avg_grade())\n",
    "        \n",
    "        \n",
    "student1 = student_management(\"12354\",\"sudh kumar\")\n",
    "student1.add_grade(86)\n",
    "student1.add_grade(76)\n",
    "student1.add_grade(72)\n",
    "\n",
    "student2 = student_management(\"12356\",\"justin beiber\")\n",
    "student2.add_grade(90)\n",
    "student2.add_grade(86)\n",
    "student2.add_grade(67)\n",
    "\n",
    "student1.display_student_detils()\n",
    "student2.display_student_detils()\n",
    "\n",
    "        \n",
    "        \n",
    "        "
   ]
  },
  {
   "cell_type": "markdown",
   "id": "ae727e5e-354f-4102-b107-648fe11ae3d7",
   "metadata": {},
   "source": [
    "Problem 8: Email Management Create a class representing an email with attributes like sender, recipient, and subject. Implement methods to send an email and display email details."
   ]
  },
  {
   "cell_type": "code",
   "execution_count": 9,
   "id": "72a6ce74-23c2-4c16-bb42-bf7a8dc9c51e",
   "metadata": {},
   "outputs": [
    {
     "name": "stdout",
     "output_type": "stream",
     "text": [
      "Email sent from sudhkumar@gmail.com to pwskills@gmail.com with subject : 'Class Agenda\n",
      "Email Details :\n",
      "Sender :sudhkumar@gmail.com\n",
      "Recipient :pwskills@gmail.com\n",
      "Subject : Class Agenda\n"
     ]
    }
   ],
   "source": [
    "class Email:\n",
    "    \n",
    "    def __init__(self,sender,recipient,subject):\n",
    "        self.sender = sender\n",
    "        self.recipient = recipient\n",
    "        self.subject = subject\n",
    "        self.message = \"\"\n",
    "        self.sent = False\n",
    "        \n",
    "    def send_email(self,message):\n",
    "        if not self.sent:\n",
    "            \n",
    "            print(\"Email sent from {} to {} with subject : '{}\".format(self.sender,self.recipient ,self.subject))\n",
    "            \n",
    "            self.sent = True\n",
    "            \n",
    "        else:\n",
    "            print(\"This email has already been set\")\n",
    "            \n",
    "    \n",
    "    def display_email_details(self):\n",
    "        print(\"Email Details :\")\n",
    "        print(\"Sender :{}\" .format(self.sender))\n",
    "        print(\"Recipient :{}\" .format(self.recipient))\n",
    "        print(\"Subject : {}\" .format(self.subject))\n",
    "\n",
    "if __name__ == \"__main__\":\n",
    "    email1 = Email(sender = \"sudhkumar@gmail.com\" ,recipient = \"pwskills@gmail.com\",subject = \"Class Agenda\")\n",
    "    \n",
    "    email1.send_email(\"Dear Team ,Let's discuss the class agenda for our student\")\n",
    "    \n",
    "    email1.display_email_details()\n",
    "    \n",
    "        \n",
    "            "
   ]
  },
  {
   "cell_type": "markdown",
   "id": "9a336f09-e0e0-40b4-9592-860038e1791d",
   "metadata": {},
   "source": [
    "Problem 9: Social Media Profile Create a class representing a social media profile with attributes like username and posts. Implement methods to add posts, display posts, and search for posts by keyword."
   ]
  },
  {
   "cell_type": "code",
   "execution_count": 7,
   "id": "84651ea0-b140-4646-98fc-366fe92debe1",
   "metadata": {},
   "outputs": [
    {
     "name": "stdout",
     "output_type": "stream",
     "text": [
      "Posts by iamsharukh124:\n",
      "Post 1 : Hello ,welcome to my new post\n",
      "Post 2 : A great morning with the cool breeze of sea\n",
      "Post 3 : enjoying the joyful moments\n",
      "Posts by iamsharukh124 containing the keyword 'joyful':\n",
      "Post 1 : enjoying the joyful moments\n"
     ]
    }
   ],
   "source": [
    "class social_media_profile:\n",
    "    \n",
    "    def __init__(self,username):\n",
    "        self.username = username\n",
    "        self.posts = []\n",
    "        \n",
    "    def add_tasks(self ,post_content):\n",
    "        self.posts.append(post_content)\n",
    "        \n",
    "    def display_posts(self):\n",
    "        if not self.posts:\n",
    "            print(f\"{self.username} has no posts.\")\n",
    "        \n",
    "        else:\n",
    "            print(f\"Posts by {self.username}:\")\n",
    "            for i , post in enumerate(self.posts , start =1):\n",
    "                print(f\"Post {i} : {post}\")\n",
    "                \n",
    "    def search_for_posts_keywords(self,keyword):\n",
    "        matching_posts = [post for post in self.posts if keyword in post]\n",
    "        if matching_posts:\n",
    "            print(f\"Posts by {self.username} containing the keyword '{keyword}':\")\n",
    "            for i , post in enumerate(matching_posts ,start = 1):\n",
    "                print(f\"Post {i} : {post}\")\n",
    "                \n",
    "        else:\n",
    "            print(f\"No posts by {self.username} contains the keyword '{keyword}'.\")\n",
    "                \n",
    "if __name__ == \"__main__\":\n",
    "    profile = social_media_profile(\"iamsharukh124\")\n",
    "    \n",
    "    profile.add_tasks(\"Hello ,welcome to my new post\")\n",
    "    profile.add_tasks(\"A great morning with the cool breeze of sea\")\n",
    "    profile.add_tasks(\"enjoying the joyful moments\")\n",
    "    \n",
    "    profile.display_posts()\n",
    "    \n",
    "    keyword = \"joyful\"\n",
    "    profile.search_for_posts_keywords(keyword)\n",
    "                \n",
    "        "
   ]
  },
  {
   "cell_type": "markdown",
   "id": "bf7eb904-13a0-41e0-b267-8f89f13757be",
   "metadata": {},
   "source": [
    "Problem 10: ToDo List Create a class representing a ToDo list with attributes like tasks and due dates. Implement methods to add tasks, mark tasks as completed, and display pending tasks."
   ]
  },
  {
   "cell_type": "code",
   "execution_count": 12,
   "id": "aea5020c-508b-40a8-aacc-6f83ad9cc4ff",
   "metadata": {},
   "outputs": [
    {
     "name": "stdout",
     "output_type": "stream",
     "text": [
      "Pending Task:\n",
      "1. Task :Lecture on Heridity ,Due Date :2023-10-25\n",
      "2. Task :Interview Call ,Due Date :2023-10-28\n"
     ]
    }
   ],
   "source": [
    "class ToDoList:\n",
    "    \n",
    "    def __init__(self):\n",
    "        self.tasks = []\n",
    "        \n",
    "    def add_task(self,task,due_date):\n",
    "        self.tasks.append({\"task\" :task ,\"due_date\" :due_date, \"completed\":False})\n",
    "\n",
    "    def mark_task_completed(self,task_name):\n",
    "        for task in self.tasks:\n",
    "            if task[\"task\"] == task_name:\n",
    "                task[\"completed\"] = True\n",
    "                \n",
    "    def display_pending_tasks(self):\n",
    "        pending_tasks = [task for task in self.tasks if not task[\"completed\"]]\n",
    "        if pending_tasks:\n",
    "            print(\"Pending Task:\")\n",
    "            for i , task in enumerate(pending_tasks , start =1):\n",
    "                print(f\"{i}. Task :{task['task']} ,Due Date :{task['due_date']}\")\n",
    "                \n",
    "        else:\n",
    "            print(\"No pending tasks at the moment\")\n",
    "\n",
    "            \n",
    "if __name__ == \"__main__\":\n",
    "    todo_list = ToDoList()\n",
    "    \n",
    "    todo_list.add_task(\"Lecture on Heridity\" ,\"2023-10-25\")\n",
    "    todo_list.add_task(\"Buy vegetables\" ,\"2023-10-21\")\n",
    "    todo_list.add_task(\"Interview Call\" ,\"2023-10-28\")\n",
    "    \n",
    "    todo_list.mark_task_completed(\"Buy vegetables\")\n",
    "    \n",
    "    todo_list.display_pending_tasks()\n",
    "        "
   ]
  },
  {
   "cell_type": "code",
   "execution_count": null,
   "id": "d6293c40-6970-485e-9b1a-edce77ad3a33",
   "metadata": {},
   "outputs": [],
   "source": []
  },
  {
   "cell_type": "code",
   "execution_count": null,
   "id": "771ec660-fa20-447f-87e1-e350f0096075",
   "metadata": {},
   "outputs": [],
   "source": []
  },
  {
   "cell_type": "code",
   "execution_count": null,
   "id": "950ff16f-2f4e-413e-9f25-4ccec47978f1",
   "metadata": {},
   "outputs": [],
   "source": []
  },
  {
   "cell_type": "code",
   "execution_count": null,
   "id": "0c75e6a3-0234-499a-834b-cd23ab6b2968",
   "metadata": {},
   "outputs": [],
   "source": []
  },
  {
   "cell_type": "code",
   "execution_count": null,
   "id": "b9097f76-8bdd-459b-b7db-19e66281a1c5",
   "metadata": {},
   "outputs": [],
   "source": []
  },
  {
   "cell_type": "code",
   "execution_count": null,
   "id": "53015d8d-194f-4a10-bea1-4e0e36562d51",
   "metadata": {},
   "outputs": [],
   "source": []
  },
  {
   "cell_type": "code",
   "execution_count": null,
   "id": "ab9e1533-b583-4121-bdcb-f166c339e534",
   "metadata": {},
   "outputs": [],
   "source": []
  }
 ],
 "metadata": {
  "kernelspec": {
   "display_name": "Python 3 (ipykernel)",
   "language": "python",
   "name": "python3"
  },
  "language_info": {
   "codemirror_mode": {
    "name": "ipython",
    "version": 3
   },
   "file_extension": ".py",
   "mimetype": "text/x-python",
   "name": "python",
   "nbconvert_exporter": "python",
   "pygments_lexer": "ipython3",
   "version": "3.10.8"
  }
 },
 "nbformat": 4,
 "nbformat_minor": 5
}
